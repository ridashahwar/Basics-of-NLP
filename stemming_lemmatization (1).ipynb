{
  "nbformat": 4,
  "nbformat_minor": 0,
  "metadata": {
    "colab": {
      "provenance": []
    },
    "kernelspec": {
      "name": "python3",
      "display_name": "Python 3"
    },
    "language_info": {
      "name": "python"
    }
  },
  "cells": [
    {
      "cell_type": "code",
      "source": [
        "nltk.download('punkt')"
      ],
      "metadata": {
        "colab": {
          "base_uri": "https://localhost:8080/"
        },
        "id": "KkcabnKvn33K",
        "outputId": "83ea21e6-ecd8-4679-b9b1-988b63014b20"
      },
      "execution_count": null,
      "outputs": [
        {
          "output_type": "stream",
          "name": "stdout",
          "text": [
            "[nltk_data] Downloading package punkt to /root/nltk_data...\n",
            "[nltk_data]   Unzipping tokenizers/punkt.zip.\n"
          ]
        },
        {
          "output_type": "execute_result",
          "data": {
            "text/plain": [
              "True"
            ]
          },
          "metadata": {},
          "execution_count": 3
        }
      ]
    },
    {
      "cell_type": "code",
      "execution_count": null,
      "metadata": {
        "colab": {
          "base_uri": "https://localhost:8080/"
        },
        "id": "oKg0z3M2mM_u",
        "outputId": "121bc6a6-e0a3-4419-e4e2-2dfb215b76ae"
      },
      "outputs": [
        {
          "output_type": "stream",
          "name": "stdout",
          "text": [
            "Actual: It  Stem: It\n",
            "Actual: originated  Stem: origin\n",
            "Actual: from  Stem: from\n",
            "Actual: the  Stem: the\n",
            "Actual: idea  Stem: idea\n",
            "Actual: that  Stem: that\n",
            "Actual: there  Stem: there\n",
            "Actual: are  Stem: are\n",
            "Actual: readers  Stem: reader\n",
            "Actual: who  Stem: who\n",
            "Actual: prefer  Stem: prefer\n",
            "Actual: learning  Stem: learn\n",
            "Actual: new  Stem: new\n",
            "Actual: skills  Stem: skill\n",
            "Actual: from  Stem: from\n",
            "Actual: the  Stem: the\n",
            "Actual: comforts  Stem: comfort\n",
            "Actual: of  Stem: of\n",
            "Actual: their  Stem: their\n",
            "Actual: drawing  Stem: draw\n",
            "Actual: rooms  Stem: room\n"
          ]
        }
      ],
      "source": [
        "import nltk\n",
        "from nltk.stem.porter import PorterStemmer\n",
        "porter_stemmer = PorterStemmer()\n",
        "\n",
        "word_data = \"It originated from the idea that there are readers who prefer learning new skills from the comforts of their drawing rooms\"\n",
        "# First Word tokenization\n",
        "nltk_tokens = nltk.word_tokenize(word_data)\n",
        "#Next find the roots of the word\n",
        "for w in nltk_tokens:\n",
        "       print (\"Actual: %s  Stem: %s\"  % (w,porter_stemmer.stem(w)))"
      ]
    },
    {
      "cell_type": "code",
      "source": [
        "nltk.download('wordnet')"
      ],
      "metadata": {
        "id": "UJnJeF0hoHko",
        "outputId": "33c90692-6186-4adb-a210-14f02ee3d468",
        "colab": {
          "base_uri": "https://localhost:8080/"
        }
      },
      "execution_count": null,
      "outputs": [
        {
          "output_type": "stream",
          "name": "stdout",
          "text": [
            "[nltk_data] Downloading package wordnet to /root/nltk_data...\n",
            "[nltk_data]   Unzipping corpora/wordnet.zip.\n"
          ]
        },
        {
          "output_type": "execute_result",
          "data": {
            "text/plain": [
              "True"
            ]
          },
          "metadata": {},
          "execution_count": 7
        }
      ]
    },
    {
      "cell_type": "code",
      "source": [
        "import nltk\n",
        "from nltk.stem import WordNetLemmatizer\n",
        "wordnet_lemmatizer = WordNetLemmatizer()\n",
        "\n",
        "word_data = \"It originated from the idea that there are readers who prefer learning new skills from the comforts of their drawing rooms\"\n",
        "nltk_tokens = nltk.word_tokenize(word_data)\n",
        "for w in nltk_tokens:\n",
        "       print (\"Actual: %s  Lemma: %s\"  % (w,wordnet_lemmatizer.lemmatize(w)))"
      ],
      "metadata": {
        "colab": {
          "base_uri": "https://localhost:8080/"
        },
        "id": "-6ARqqthn-tM",
        "outputId": "8dec6b07-f688-4972-8ad5-0f9b4c7eee07"
      },
      "execution_count": null,
      "outputs": [
        {
          "output_type": "stream",
          "name": "stdout",
          "text": [
            "Actual: It  Lemma: It\n",
            "Actual: originated  Lemma: originated\n",
            "Actual: from  Lemma: from\n",
            "Actual: the  Lemma: the\n",
            "Actual: idea  Lemma: idea\n",
            "Actual: that  Lemma: that\n",
            "Actual: there  Lemma: there\n",
            "Actual: are  Lemma: are\n",
            "Actual: readers  Lemma: reader\n",
            "Actual: who  Lemma: who\n",
            "Actual: prefer  Lemma: prefer\n",
            "Actual: learning  Lemma: learning\n",
            "Actual: new  Lemma: new\n",
            "Actual: skills  Lemma: skill\n",
            "Actual: from  Lemma: from\n",
            "Actual: the  Lemma: the\n",
            "Actual: comforts  Lemma: comfort\n",
            "Actual: of  Lemma: of\n",
            "Actual: their  Lemma: their\n",
            "Actual: drawing  Lemma: drawing\n",
            "Actual: rooms  Lemma: room\n"
          ]
        }
      ]
    },
    {
      "cell_type": "code",
      "source": [],
      "metadata": {
        "id": "VRP5ppdNoKzy"
      },
      "execution_count": null,
      "outputs": []
    }
  ]
}