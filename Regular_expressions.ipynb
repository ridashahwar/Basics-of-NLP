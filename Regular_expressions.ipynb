{
  "nbformat": 4,
  "nbformat_minor": 0,
  "metadata": {
    "colab": {
      "provenance": []
    },
    "kernelspec": {
      "name": "python3",
      "display_name": "Python 3"
    },
    "language_info": {
      "name": "python"
    }
  },
  "cells": [
    {
      "cell_type": "code",
      "execution_count": null,
      "metadata": {
        "id": "a6akWYJhNz2w"
      },
      "outputs": [],
      "source": [
        "import re"
      ]
    },
    {
      "cell_type": "code",
      "source": [
        "listv = \"The recent rat attempt by the polices likedies to retain their current rates to pay has not gathers much favourves with the southern factions.\"\n",
        "#listv = \"The boys were throwing baseballs back and forth between bases.Our horses are much happier wearing lightweight English saddles.You stole my ideas and didn’t give me any credit\"\n",
        "#listv = \"The birds flew from the tree to the birdhouse.Please put these books in your backpack.My brothers are going to summer camp.Look at the cute little foxes!What countries did you visit?\"\n",
        "\n",
        "listv = re.split(r'\\s',listv)\n",
        "\n",
        "for element in listv:\n",
        "  r1 = re.match(r'(\\w+es\\b)|(\\w+ves\\b)|(\\w[s|ch|sh|z|x]+es\\b)|(\\w+ies\\b)|(\\w[aeiou]+o+s\\b)|(\\w+o+e+s\\b)|(\\w[aeiou]+y+s\\b)|(\\w+[edrtkgwmnl]+s\\b)|(\\w+e+a+s\\b)',element)\n",
        "  if r1 : \n",
        "    print(r1.group())"
      ],
      "metadata": {
        "colab": {
          "base_uri": "https://localhost:8080/"
        },
        "id": "4MRLYir6N51c",
        "outputId": "d8c42186-9826-4392-96bb-796ce98ac4b9"
      },
      "execution_count": null,
      "outputs": [
        {
          "output_type": "stream",
          "name": "stdout",
          "text": [
            "polices\n",
            "likedies\n",
            "rates\n",
            "gathers\n",
            "favourves\n",
            "factions\n"
          ]
        }
      ]
    }
  ]
}