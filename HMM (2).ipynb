{
  "nbformat": 4,
  "nbformat_minor": 0,
  "metadata": {
    "colab": {
      "provenance": []
    },
    "kernelspec": {
      "name": "python3",
      "display_name": "Python 3"
    },
    "language_info": {
      "name": "python"
    }
  },
  "cells": [
    {
      "cell_type": "code",
      "execution_count": null,
      "metadata": {
        "id": "4dD9i2C6hmjF"
      },
      "outputs": [],
      "source": [
        "import nltk\n",
        "import numpy as np\n",
        "import pandas as pd"
      ]
    },
    {
      "cell_type": "code",
      "source": [
        "import random\n",
        "from sklearn.model_selection import train_test_split\n",
        "import pprint, time"
      ],
      "metadata": {
        "id": "nkWWCOXFiSXZ"
      },
      "execution_count": null,
      "outputs": []
    },
    {
      "cell_type": "markdown",
      "source": [
        "***Treebank corpus***"
      ],
      "metadata": {
        "id": "8r69GU43yRXN"
      }
    },
    {
      "cell_type": "code",
      "source": [
        "nltk.download('treebank')"
      ],
      "metadata": {
        "colab": {
          "base_uri": "https://localhost:8080/"
        },
        "id": "QGwGJGcsyWGA",
        "outputId": "88ccde9b-03fd-4e82-bd7f-9e0a6c7e14f2"
      },
      "execution_count": null,
      "outputs": [
        {
          "output_type": "stream",
          "name": "stdout",
          "text": [
            "[nltk_data] Downloading package treebank to /root/nltk_data...\n",
            "[nltk_data]   Package treebank is already up-to-date!\n"
          ]
        },
        {
          "output_type": "execute_result",
          "data": {
            "text/plain": [
              "True"
            ]
          },
          "metadata": {},
          "execution_count": 3
        }
      ]
    },
    {
      "cell_type": "markdown",
      "source": [
        "***Universal tagset***"
      ],
      "metadata": {
        "id": "hORkLY1NyhnT"
      }
    },
    {
      "cell_type": "code",
      "source": [
        "nltk.download('universal_tagset')"
      ],
      "metadata": {
        "colab": {
          "base_uri": "https://localhost:8080/"
        },
        "id": "tBTa9thpyelR",
        "outputId": "2e0d323a-9704-4ab3-aab5-7612e2481be0"
      },
      "execution_count": null,
      "outputs": [
        {
          "output_type": "stream",
          "name": "stdout",
          "text": [
            "[nltk_data] Downloading package universal_tagset to /root/nltk_data...\n",
            "[nltk_data]   Package universal_tagset is already up-to-date!\n"
          ]
        },
        {
          "output_type": "execute_result",
          "data": {
            "text/plain": [
              "True"
            ]
          },
          "metadata": {},
          "execution_count": 4
        }
      ]
    },
    {
      "cell_type": "markdown",
      "source": [
        "***Reading the Treebank tagged sentences***"
      ],
      "metadata": {
        "id": "QbxZMCyby4UE"
      }
    },
    {
      "cell_type": "code",
      "source": [
        "nltk_data = list(nltk.corpus.treebank.tagged_sents(tagset='universal'))\n",
        "print(nltk_data[:2])"
      ],
      "metadata": {
        "colab": {
          "base_uri": "https://localhost:8080/"
        },
        "id": "2QyJfYdNy_AG",
        "outputId": "abff1dbc-70d8-4ae8-d586-c7e3be7b3c2c"
      },
      "execution_count": null,
      "outputs": [
        {
          "output_type": "stream",
          "name": "stdout",
          "text": [
            "[[('Pierre', 'NOUN'), ('Vinken', 'NOUN'), (',', '.'), ('61', 'NUM'), ('years', 'NOUN'), ('old', 'ADJ'), (',', '.'), ('will', 'VERB'), ('join', 'VERB'), ('the', 'DET'), ('board', 'NOUN'), ('as', 'ADP'), ('a', 'DET'), ('nonexecutive', 'ADJ'), ('director', 'NOUN'), ('Nov.', 'NOUN'), ('29', 'NUM'), ('.', '.')], [('Mr.', 'NOUN'), ('Vinken', 'NOUN'), ('is', 'VERB'), ('chairman', 'NOUN'), ('of', 'ADP'), ('Elsevier', 'NOUN'), ('N.V.', 'NOUN'), (',', '.'), ('the', 'DET'), ('Dutch', 'NOUN'), ('publishing', 'VERB'), ('group', 'NOUN'), ('.', '.')]]\n"
          ]
        }
      ]
    },
    {
      "cell_type": "code",
      "source": [
        "#print each word with its respective tag for first two sentences\n",
        "for sent in nltk_data[:2]:\n",
        "  for tuple in sent:\n",
        "    print(tuple)"
      ],
      "metadata": {
        "colab": {
          "base_uri": "https://localhost:8080/"
        },
        "id": "Z_KGDctzzM2e",
        "outputId": "8a32d695-eb2b-4240-a7bc-6e8ccf94f01e"
      },
      "execution_count": null,
      "outputs": [
        {
          "output_type": "stream",
          "name": "stdout",
          "text": [
            "('Pierre', 'NOUN')\n",
            "('Vinken', 'NOUN')\n",
            "(',', '.')\n",
            "('61', 'NUM')\n",
            "('years', 'NOUN')\n",
            "('old', 'ADJ')\n",
            "(',', '.')\n",
            "('will', 'VERB')\n",
            "('join', 'VERB')\n",
            "('the', 'DET')\n",
            "('board', 'NOUN')\n",
            "('as', 'ADP')\n",
            "('a', 'DET')\n",
            "('nonexecutive', 'ADJ')\n",
            "('director', 'NOUN')\n",
            "('Nov.', 'NOUN')\n",
            "('29', 'NUM')\n",
            "('.', '.')\n",
            "('Mr.', 'NOUN')\n",
            "('Vinken', 'NOUN')\n",
            "('is', 'VERB')\n",
            "('chairman', 'NOUN')\n",
            "('of', 'ADP')\n",
            "('Elsevier', 'NOUN')\n",
            "('N.V.', 'NOUN')\n",
            "(',', '.')\n",
            "('the', 'DET')\n",
            "('Dutch', 'NOUN')\n",
            "('publishing', 'VERB')\n",
            "('group', 'NOUN')\n",
            "('.', '.')\n"
          ]
        }
      ]
    },
    {
      "cell_type": "markdown",
      "source": [
        "***Split data into training and validation set in the ratio 80:20***"
      ],
      "metadata": {
        "id": "AW33xd2n1joh"
      }
    },
    {
      "cell_type": "code",
      "source": [
        "train_set,test_set =train_test_split(nltk_data,train_size=0.80,test_size=0.20,random_state = 101)"
      ],
      "metadata": {
        "id": "oXy6NQpLzO6J"
      },
      "execution_count": null,
      "outputs": []
    },
    {
      "cell_type": "markdown",
      "source": [
        "***Create list of train and test tagged words***"
      ],
      "metadata": {
        "id": "2-H9PC7S1duq"
      }
    },
    {
      "cell_type": "code",
      "source": [
        "train_tagged_words = [ tup for sent in train_set for tup in sent ]\n",
        "test_tagged_words = [ tup for sent in test_set for tup in sent ]\n",
        "print(len(train_tagged_words))\n",
        "print(len(test_tagged_words))"
      ],
      "metadata": {
        "colab": {
          "base_uri": "https://localhost:8080/"
        },
        "id": "BXMtT1lB0l56",
        "outputId": "2b81f73e-bd2f-4b78-e139-c8b113dea2f7"
      },
      "execution_count": null,
      "outputs": [
        {
          "output_type": "stream",
          "name": "stdout",
          "text": [
            "80310\n",
            "20366\n"
          ]
        }
      ]
    },
    {
      "cell_type": "markdown",
      "source": [
        "***Checking some of the tagged words***"
      ],
      "metadata": {
        "id": "boiwZd9f1XvO"
      }
    },
    {
      "cell_type": "code",
      "source": [
        "train_tagged_words[:5]"
      ],
      "metadata": {
        "colab": {
          "base_uri": "https://localhost:8080/"
        },
        "id": "PfnCzZP50ndu",
        "outputId": "6b0d0cdb-a7d8-404d-afc2-140bc9925340"
      },
      "execution_count": null,
      "outputs": [
        {
          "output_type": "execute_result",
          "data": {
            "text/plain": [
              "[('Drink', 'NOUN'),\n",
              " ('Carrier', 'NOUN'),\n",
              " ('Competes', 'VERB'),\n",
              " ('With', 'ADP'),\n",
              " ('Cartons', 'NOUN')]"
            ]
          },
          "metadata": {},
          "execution_count": 9
        }
      ]
    },
    {
      "cell_type": "markdown",
      "source": [
        "***Unique tags in training data***"
      ],
      "metadata": {
        "id": "Q8mpFNnO01-c"
      }
    },
    {
      "cell_type": "code",
      "source": [
        "tags = {tag for word,tag in train_tagged_words}\n",
        "print(len(tags))\n",
        "print(tags)\n",
        " \n",
        "#total words in vocabulary\n",
        "vocab = {word for word,tag in train_tagged_words}"
      ],
      "metadata": {
        "colab": {
          "base_uri": "https://localhost:8080/"
        },
        "id": "TrsTFen00qsm",
        "outputId": "1fc99c1a-1d7d-4c5e-ea6c-c068845c719f"
      },
      "execution_count": null,
      "outputs": [
        {
          "output_type": "stream",
          "name": "stdout",
          "text": [
            "12\n",
            "{'DET', 'ADV', 'PRT', 'X', 'ADP', 'ADJ', '.', 'VERB', 'PRON', 'CONJ', 'NOUN', 'NUM'}\n"
          ]
        }
      ]
    },
    {
      "cell_type": "markdown",
      "source": [
        "***Emission Probability***"
      ],
      "metadata": {
        "id": "rvfGmkOd1sBy"
      }
    },
    {
      "cell_type": "code",
      "source": [
        "def word_given_tag(word, tag, train_bag = train_tagged_words):\n",
        "    tag_list = [pair for pair in train_bag if pair[1]==tag]\n",
        "    count_tag = len(tag_list)\n",
        "    w_given_tag_list = [pair[0] for pair in tag_list if pair[0]==word]\n",
        "    count_w_given_tag = len(w_given_tag_list)\n",
        "    return (count_w_given_tag, count_tag)"
      ],
      "metadata": {
        "id": "iT3MNrJ_1t3u"
      },
      "execution_count": null,
      "outputs": []
    },
    {
      "cell_type": "markdown",
      "source": [
        "***Transition Probability***"
      ],
      "metadata": {
        "id": "DeqiC81Z157c"
      }
    },
    {
      "cell_type": "code",
      "source": [
        "def t2_given_t1(t2, t1, train_bag = train_tagged_words):\n",
        "    tags = [pair[1] for pair in train_bag]\n",
        "    count_t1 = len([t for t in tags if t==t1])\n",
        "    count_t2_t1 = 0\n",
        "    for index in range(len(tags)-1):\n",
        "        if tags[index]==t1 and tags[index+1] == t2:\n",
        "            count_t2_t1 += 1\n",
        "    return (count_t2_t1, count_t1)"
      ],
      "metadata": {
        "id": "oS2Qurc819RK"
      },
      "execution_count": null,
      "outputs": []
    },
    {
      "cell_type": "markdown",
      "source": [
        "***t x t transition matrix of tags***"
      ],
      "metadata": {
        "id": "vIMDUGj_2FKO"
      }
    },
    {
      "cell_type": "code",
      "source": [
        "tags_matrix = np.zeros((len(tags), len(tags)), dtype='float32')\n",
        "for i, t1 in enumerate(list(tags)):\n",
        "    for j, t2 in enumerate(list(tags)): \n",
        "        tags_matrix[i, j] = t2_given_t1(t2, t1)[0]/t2_given_t1(t2, t1)[1]\n",
        " \n",
        "print(tags_matrix)"
      ],
      "metadata": {
        "colab": {
          "base_uri": "https://localhost:8080/"
        },
        "id": "7uboN3Q42Hgv",
        "outputId": "692be528-7dc2-497b-d333-967a8ad17d03"
      },
      "execution_count": null,
      "outputs": [
        {
          "output_type": "stream",
          "name": "stdout",
          "text": [
            "[[6.03708485e-03 1.20741697e-02 2.87480245e-04 4.51343954e-02\n",
            "  9.91806854e-03 2.06410810e-01 1.73925534e-02 4.02472317e-02\n",
            "  3.30602261e-03 4.31220367e-04 6.35906279e-01 2.28546783e-02]\n",
            " [7.13731572e-02 8.14584941e-02 1.47401085e-02 2.28859577e-02\n",
            "  1.19472459e-01 1.30721495e-01 1.39255241e-01 3.39022487e-01\n",
            "  1.20248254e-02 6.98215654e-03 3.21955010e-02 2.98681147e-02]\n",
            " [1.01369865e-01 9.39334650e-03 1.17416831e-03 1.21330721e-02\n",
            "  1.95694715e-02 8.29745606e-02 4.50097844e-02 4.01174158e-01\n",
            "  1.76125243e-02 2.34833662e-03 2.50489235e-01 5.67514673e-02]\n",
            " [5.68902567e-02 2.57543717e-02 1.85085520e-01 7.57255405e-02\n",
            "  1.42225638e-01 1.76821072e-02 1.60868734e-01 2.06419379e-01\n",
            "  5.41995019e-02 1.03786280e-02 6.16951771e-02 3.07514891e-03]\n",
            " [3.20931405e-01 1.45532778e-02 1.26550242e-03 3.45482156e-02\n",
            "  1.69577319e-02 1.07061505e-01 3.87243740e-02 8.47886596e-03\n",
            "  6.96026310e-02 1.01240189e-03 3.23588967e-01 6.32751212e-02]\n",
            " [5.24271838e-03 5.24271838e-03 1.14563107e-02 2.09708735e-02\n",
            "  8.05825219e-02 6.33009672e-02 6.60194159e-02 1.14563107e-02\n",
            "  1.94174761e-04 1.68932043e-02 6.96893215e-01 2.17475723e-02]\n",
            " [1.72191828e-01 5.25694676e-02 2.78940029e-03 2.56410260e-02\n",
            "  9.29084867e-02 4.61323895e-02 9.23720598e-02 8.96899477e-02\n",
            "  6.87694475e-02 6.00793920e-02 2.18538776e-01 7.82104954e-02]\n",
            " [1.33609578e-01 8.38858187e-02 3.06629837e-02 2.15930015e-01\n",
            "  9.23572779e-02 6.63904250e-02 3.48066315e-02 1.67955801e-01\n",
            "  3.55432779e-02 5.43278083e-03 1.10589318e-01 2.28360966e-02]\n",
            " [9.56719834e-03 3.69020514e-02 1.41230067e-02 8.83826911e-02\n",
            "  2.23234631e-02 7.06150308e-02 4.19134386e-02 4.84738052e-01\n",
            "  6.83371304e-03 5.01138950e-03 2.12756261e-01 6.83371304e-03]\n",
            " [1.23490669e-01 5.70801310e-02 4.39077942e-03 9.33040585e-03\n",
            "  5.59824370e-02 1.13611415e-01 3.51262353e-02 1.50384188e-01\n",
            "  6.03732169e-02 5.48847427e-04 3.49066973e-01 4.06147093e-02]\n",
            " [1.31063312e-02 1.68945398e-02 4.39345129e-02 2.88252197e-02\n",
            "  1.76826611e-01 1.25838192e-02 2.40094051e-01 1.49133503e-01\n",
            "  4.65906132e-03 4.24540639e-02 2.62344331e-01 9.14395228e-03]\n",
            " [3.57015361e-03 3.57015361e-03 2.60621198e-02 2.02427700e-01\n",
            "  3.74866128e-02 3.53445187e-02 1.19243130e-01 2.07068902e-02\n",
            "  1.42806140e-03 1.42806144e-02 3.51660132e-01 1.84219927e-01]]\n"
          ]
        }
      ]
    },
    {
      "cell_type": "code",
      "source": [
        "tags_df = pd.DataFrame(tags_matrix, columns = list(tags), index=list(tags))\n",
        "display(tags_df)"
      ],
      "metadata": {
        "colab": {
          "base_uri": "https://localhost:8080/",
          "height": 425
        },
        "id": "xHLgef_z2PnI",
        "outputId": "ff6e862a-ee20-44a5-c31c-01197abae182"
      },
      "execution_count": null,
      "outputs": [
        {
          "output_type": "display_data",
          "data": {
            "text/plain": [
              "           DET       ADV       PRT         X       ADP       ADJ         .  \\\n",
              "DET   0.006037  0.012074  0.000287  0.045134  0.009918  0.206411  0.017393   \n",
              "ADV   0.071373  0.081458  0.014740  0.022886  0.119472  0.130721  0.139255   \n",
              "PRT   0.101370  0.009393  0.001174  0.012133  0.019569  0.082975  0.045010   \n",
              "X     0.056890  0.025754  0.185086  0.075726  0.142226  0.017682  0.160869   \n",
              "ADP   0.320931  0.014553  0.001266  0.034548  0.016958  0.107062  0.038724   \n",
              "ADJ   0.005243  0.005243  0.011456  0.020971  0.080583  0.063301  0.066019   \n",
              ".     0.172192  0.052569  0.002789  0.025641  0.092908  0.046132  0.092372   \n",
              "VERB  0.133610  0.083886  0.030663  0.215930  0.092357  0.066390  0.034807   \n",
              "PRON  0.009567  0.036902  0.014123  0.088383  0.022323  0.070615  0.041913   \n",
              "CONJ  0.123491  0.057080  0.004391  0.009330  0.055982  0.113611  0.035126   \n",
              "NOUN  0.013106  0.016895  0.043935  0.028825  0.176827  0.012584  0.240094   \n",
              "NUM   0.003570  0.003570  0.026062  0.202428  0.037487  0.035345  0.119243   \n",
              "\n",
              "          VERB      PRON      CONJ      NOUN       NUM  \n",
              "DET   0.040247  0.003306  0.000431  0.635906  0.022855  \n",
              "ADV   0.339022  0.012025  0.006982  0.032196  0.029868  \n",
              "PRT   0.401174  0.017613  0.002348  0.250489  0.056751  \n",
              "X     0.206419  0.054200  0.010379  0.061695  0.003075  \n",
              "ADP   0.008479  0.069603  0.001012  0.323589  0.063275  \n",
              "ADJ   0.011456  0.000194  0.016893  0.696893  0.021748  \n",
              ".     0.089690  0.068769  0.060079  0.218539  0.078210  \n",
              "VERB  0.167956  0.035543  0.005433  0.110589  0.022836  \n",
              "PRON  0.484738  0.006834  0.005011  0.212756  0.006834  \n",
              "CONJ  0.150384  0.060373  0.000549  0.349067  0.040615  \n",
              "NOUN  0.149134  0.004659  0.042454  0.262344  0.009144  \n",
              "NUM   0.020707  0.001428  0.014281  0.351660  0.184220  "
            ],
            "text/html": [
              "\n",
              "  <div id=\"df-06b06d5a-9a62-48d7-a4dc-3fc3733c45f1\">\n",
              "    <div class=\"colab-df-container\">\n",
              "      <div>\n",
              "<style scoped>\n",
              "    .dataframe tbody tr th:only-of-type {\n",
              "        vertical-align: middle;\n",
              "    }\n",
              "\n",
              "    .dataframe tbody tr th {\n",
              "        vertical-align: top;\n",
              "    }\n",
              "\n",
              "    .dataframe thead th {\n",
              "        text-align: right;\n",
              "    }\n",
              "</style>\n",
              "<table border=\"1\" class=\"dataframe\">\n",
              "  <thead>\n",
              "    <tr style=\"text-align: right;\">\n",
              "      <th></th>\n",
              "      <th>DET</th>\n",
              "      <th>ADV</th>\n",
              "      <th>PRT</th>\n",
              "      <th>X</th>\n",
              "      <th>ADP</th>\n",
              "      <th>ADJ</th>\n",
              "      <th>.</th>\n",
              "      <th>VERB</th>\n",
              "      <th>PRON</th>\n",
              "      <th>CONJ</th>\n",
              "      <th>NOUN</th>\n",
              "      <th>NUM</th>\n",
              "    </tr>\n",
              "  </thead>\n",
              "  <tbody>\n",
              "    <tr>\n",
              "      <th>DET</th>\n",
              "      <td>0.006037</td>\n",
              "      <td>0.012074</td>\n",
              "      <td>0.000287</td>\n",
              "      <td>0.045134</td>\n",
              "      <td>0.009918</td>\n",
              "      <td>0.206411</td>\n",
              "      <td>0.017393</td>\n",
              "      <td>0.040247</td>\n",
              "      <td>0.003306</td>\n",
              "      <td>0.000431</td>\n",
              "      <td>0.635906</td>\n",
              "      <td>0.022855</td>\n",
              "    </tr>\n",
              "    <tr>\n",
              "      <th>ADV</th>\n",
              "      <td>0.071373</td>\n",
              "      <td>0.081458</td>\n",
              "      <td>0.014740</td>\n",
              "      <td>0.022886</td>\n",
              "      <td>0.119472</td>\n",
              "      <td>0.130721</td>\n",
              "      <td>0.139255</td>\n",
              "      <td>0.339022</td>\n",
              "      <td>0.012025</td>\n",
              "      <td>0.006982</td>\n",
              "      <td>0.032196</td>\n",
              "      <td>0.029868</td>\n",
              "    </tr>\n",
              "    <tr>\n",
              "      <th>PRT</th>\n",
              "      <td>0.101370</td>\n",
              "      <td>0.009393</td>\n",
              "      <td>0.001174</td>\n",
              "      <td>0.012133</td>\n",
              "      <td>0.019569</td>\n",
              "      <td>0.082975</td>\n",
              "      <td>0.045010</td>\n",
              "      <td>0.401174</td>\n",
              "      <td>0.017613</td>\n",
              "      <td>0.002348</td>\n",
              "      <td>0.250489</td>\n",
              "      <td>0.056751</td>\n",
              "    </tr>\n",
              "    <tr>\n",
              "      <th>X</th>\n",
              "      <td>0.056890</td>\n",
              "      <td>0.025754</td>\n",
              "      <td>0.185086</td>\n",
              "      <td>0.075726</td>\n",
              "      <td>0.142226</td>\n",
              "      <td>0.017682</td>\n",
              "      <td>0.160869</td>\n",
              "      <td>0.206419</td>\n",
              "      <td>0.054200</td>\n",
              "      <td>0.010379</td>\n",
              "      <td>0.061695</td>\n",
              "      <td>0.003075</td>\n",
              "    </tr>\n",
              "    <tr>\n",
              "      <th>ADP</th>\n",
              "      <td>0.320931</td>\n",
              "      <td>0.014553</td>\n",
              "      <td>0.001266</td>\n",
              "      <td>0.034548</td>\n",
              "      <td>0.016958</td>\n",
              "      <td>0.107062</td>\n",
              "      <td>0.038724</td>\n",
              "      <td>0.008479</td>\n",
              "      <td>0.069603</td>\n",
              "      <td>0.001012</td>\n",
              "      <td>0.323589</td>\n",
              "      <td>0.063275</td>\n",
              "    </tr>\n",
              "    <tr>\n",
              "      <th>ADJ</th>\n",
              "      <td>0.005243</td>\n",
              "      <td>0.005243</td>\n",
              "      <td>0.011456</td>\n",
              "      <td>0.020971</td>\n",
              "      <td>0.080583</td>\n",
              "      <td>0.063301</td>\n",
              "      <td>0.066019</td>\n",
              "      <td>0.011456</td>\n",
              "      <td>0.000194</td>\n",
              "      <td>0.016893</td>\n",
              "      <td>0.696893</td>\n",
              "      <td>0.021748</td>\n",
              "    </tr>\n",
              "    <tr>\n",
              "      <th>.</th>\n",
              "      <td>0.172192</td>\n",
              "      <td>0.052569</td>\n",
              "      <td>0.002789</td>\n",
              "      <td>0.025641</td>\n",
              "      <td>0.092908</td>\n",
              "      <td>0.046132</td>\n",
              "      <td>0.092372</td>\n",
              "      <td>0.089690</td>\n",
              "      <td>0.068769</td>\n",
              "      <td>0.060079</td>\n",
              "      <td>0.218539</td>\n",
              "      <td>0.078210</td>\n",
              "    </tr>\n",
              "    <tr>\n",
              "      <th>VERB</th>\n",
              "      <td>0.133610</td>\n",
              "      <td>0.083886</td>\n",
              "      <td>0.030663</td>\n",
              "      <td>0.215930</td>\n",
              "      <td>0.092357</td>\n",
              "      <td>0.066390</td>\n",
              "      <td>0.034807</td>\n",
              "      <td>0.167956</td>\n",
              "      <td>0.035543</td>\n",
              "      <td>0.005433</td>\n",
              "      <td>0.110589</td>\n",
              "      <td>0.022836</td>\n",
              "    </tr>\n",
              "    <tr>\n",
              "      <th>PRON</th>\n",
              "      <td>0.009567</td>\n",
              "      <td>0.036902</td>\n",
              "      <td>0.014123</td>\n",
              "      <td>0.088383</td>\n",
              "      <td>0.022323</td>\n",
              "      <td>0.070615</td>\n",
              "      <td>0.041913</td>\n",
              "      <td>0.484738</td>\n",
              "      <td>0.006834</td>\n",
              "      <td>0.005011</td>\n",
              "      <td>0.212756</td>\n",
              "      <td>0.006834</td>\n",
              "    </tr>\n",
              "    <tr>\n",
              "      <th>CONJ</th>\n",
              "      <td>0.123491</td>\n",
              "      <td>0.057080</td>\n",
              "      <td>0.004391</td>\n",
              "      <td>0.009330</td>\n",
              "      <td>0.055982</td>\n",
              "      <td>0.113611</td>\n",
              "      <td>0.035126</td>\n",
              "      <td>0.150384</td>\n",
              "      <td>0.060373</td>\n",
              "      <td>0.000549</td>\n",
              "      <td>0.349067</td>\n",
              "      <td>0.040615</td>\n",
              "    </tr>\n",
              "    <tr>\n",
              "      <th>NOUN</th>\n",
              "      <td>0.013106</td>\n",
              "      <td>0.016895</td>\n",
              "      <td>0.043935</td>\n",
              "      <td>0.028825</td>\n",
              "      <td>0.176827</td>\n",
              "      <td>0.012584</td>\n",
              "      <td>0.240094</td>\n",
              "      <td>0.149134</td>\n",
              "      <td>0.004659</td>\n",
              "      <td>0.042454</td>\n",
              "      <td>0.262344</td>\n",
              "      <td>0.009144</td>\n",
              "    </tr>\n",
              "    <tr>\n",
              "      <th>NUM</th>\n",
              "      <td>0.003570</td>\n",
              "      <td>0.003570</td>\n",
              "      <td>0.026062</td>\n",
              "      <td>0.202428</td>\n",
              "      <td>0.037487</td>\n",
              "      <td>0.035345</td>\n",
              "      <td>0.119243</td>\n",
              "      <td>0.020707</td>\n",
              "      <td>0.001428</td>\n",
              "      <td>0.014281</td>\n",
              "      <td>0.351660</td>\n",
              "      <td>0.184220</td>\n",
              "    </tr>\n",
              "  </tbody>\n",
              "</table>\n",
              "</div>\n",
              "      <button class=\"colab-df-convert\" onclick=\"convertToInteractive('df-06b06d5a-9a62-48d7-a4dc-3fc3733c45f1')\"\n",
              "              title=\"Convert this dataframe to an interactive table.\"\n",
              "              style=\"display:none;\">\n",
              "        \n",
              "  <svg xmlns=\"http://www.w3.org/2000/svg\" height=\"24px\"viewBox=\"0 0 24 24\"\n",
              "       width=\"24px\">\n",
              "    <path d=\"M0 0h24v24H0V0z\" fill=\"none\"/>\n",
              "    <path d=\"M18.56 5.44l.94 2.06.94-2.06 2.06-.94-2.06-.94-.94-2.06-.94 2.06-2.06.94zm-11 1L8.5 8.5l.94-2.06 2.06-.94-2.06-.94L8.5 2.5l-.94 2.06-2.06.94zm10 10l.94 2.06.94-2.06 2.06-.94-2.06-.94-.94-2.06-.94 2.06-2.06.94z\"/><path d=\"M17.41 7.96l-1.37-1.37c-.4-.4-.92-.59-1.43-.59-.52 0-1.04.2-1.43.59L10.3 9.45l-7.72 7.72c-.78.78-.78 2.05 0 2.83L4 21.41c.39.39.9.59 1.41.59.51 0 1.02-.2 1.41-.59l7.78-7.78 2.81-2.81c.8-.78.8-2.07 0-2.86zM5.41 20L4 18.59l7.72-7.72 1.47 1.35L5.41 20z\"/>\n",
              "  </svg>\n",
              "      </button>\n",
              "      \n",
              "  <style>\n",
              "    .colab-df-container {\n",
              "      display:flex;\n",
              "      flex-wrap:wrap;\n",
              "      gap: 12px;\n",
              "    }\n",
              "\n",
              "    .colab-df-convert {\n",
              "      background-color: #E8F0FE;\n",
              "      border: none;\n",
              "      border-radius: 50%;\n",
              "      cursor: pointer;\n",
              "      display: none;\n",
              "      fill: #1967D2;\n",
              "      height: 32px;\n",
              "      padding: 0 0 0 0;\n",
              "      width: 32px;\n",
              "    }\n",
              "\n",
              "    .colab-df-convert:hover {\n",
              "      background-color: #E2EBFA;\n",
              "      box-shadow: 0px 1px 2px rgba(60, 64, 67, 0.3), 0px 1px 3px 1px rgba(60, 64, 67, 0.15);\n",
              "      fill: #174EA6;\n",
              "    }\n",
              "\n",
              "    [theme=dark] .colab-df-convert {\n",
              "      background-color: #3B4455;\n",
              "      fill: #D2E3FC;\n",
              "    }\n",
              "\n",
              "    [theme=dark] .colab-df-convert:hover {\n",
              "      background-color: #434B5C;\n",
              "      box-shadow: 0px 1px 3px 1px rgba(0, 0, 0, 0.15);\n",
              "      filter: drop-shadow(0px 1px 2px rgba(0, 0, 0, 0.3));\n",
              "      fill: #FFFFFF;\n",
              "    }\n",
              "  </style>\n",
              "\n",
              "      <script>\n",
              "        const buttonEl =\n",
              "          document.querySelector('#df-06b06d5a-9a62-48d7-a4dc-3fc3733c45f1 button.colab-df-convert');\n",
              "        buttonEl.style.display =\n",
              "          google.colab.kernel.accessAllowed ? 'block' : 'none';\n",
              "\n",
              "        async function convertToInteractive(key) {\n",
              "          const element = document.querySelector('#df-06b06d5a-9a62-48d7-a4dc-3fc3733c45f1');\n",
              "          const dataTable =\n",
              "            await google.colab.kernel.invokeFunction('convertToInteractive',\n",
              "                                                     [key], {});\n",
              "          if (!dataTable) return;\n",
              "\n",
              "          const docLinkHtml = 'Like what you see? Visit the ' +\n",
              "            '<a target=\"_blank\" href=https://colab.research.google.com/notebooks/data_table.ipynb>data table notebook</a>'\n",
              "            + ' to learn more about interactive tables.';\n",
              "          element.innerHTML = '';\n",
              "          dataTable['output_type'] = 'display_data';\n",
              "          await google.colab.output.renderOutput(dataTable, element);\n",
              "          const docLink = document.createElement('div');\n",
              "          docLink.innerHTML = docLinkHtml;\n",
              "          element.appendChild(docLink);\n",
              "        }\n",
              "      </script>\n",
              "    </div>\n",
              "  </div>\n",
              "  "
            ]
          },
          "metadata": {}
        }
      ]
    },
    {
      "cell_type": "markdown",
      "source": [
        "# ***Viterbi Algorithm***"
      ],
      "metadata": {
        "id": "s97lp6vA2UkG"
      }
    },
    {
      "cell_type": "code",
      "source": [
        "def Viterbi(words, train_bag = train_tagged_words):\n",
        "    state = []\n",
        "    T = list(set([pair[1] for pair in train_bag]))\n",
        "     \n",
        "    for key, word in enumerate(words):\n",
        "        #initialise list of probability column for a given observation\n",
        "        p = [] \n",
        "        for tag in T:\n",
        "            if key == 0:\n",
        "                transition_p = tags_df.loc['.', tag]\n",
        "            else:\n",
        "                transition_p = tags_df.loc[state[-1], tag]\n",
        "                 \n",
        "            # compute emission and state probabilities\n",
        "            emission_p = word_given_tag(words[key], tag)[0]/word_given_tag(words[key], tag)[1]\n",
        "            state_probability = emission_p * transition_p    \n",
        "            p.append(state_probability)\n",
        "             \n",
        "        pmax = max(p)\n",
        "        # getting state for which probability is maximum\n",
        "        state_max = T[p.index(pmax)] \n",
        "        state.append(state_max)\n",
        "    return list(zip(words, state))"
      ],
      "metadata": {
        "id": "5TUxQRtt2RXJ"
      },
      "execution_count": null,
      "outputs": []
    },
    {
      "cell_type": "markdown",
      "source": [
        "***Testing Viterbi algorithm***"
      ],
      "metadata": {
        "id": "u3Vmat622kIO"
      }
    },
    {
      "cell_type": "code",
      "source": [
        "rndom = [random.randint(1,len(test_set)) for x in range(10)]"
      ],
      "metadata": {
        "id": "Mk0IPS8C2ouu"
      },
      "execution_count": null,
      "outputs": []
    },
    {
      "cell_type": "code",
      "source": [
        "test_run = [test_set[i] for i in rndom]"
      ],
      "metadata": {
        "id": "KTx-6n6Q2sxW"
      },
      "execution_count": null,
      "outputs": []
    },
    {
      "cell_type": "code",
      "source": [
        "test_run_base = [tup for sent in test_run for tup in sent]"
      ],
      "metadata": {
        "id": "tPAY-D_L2vVn"
      },
      "execution_count": null,
      "outputs": []
    },
    {
      "cell_type": "code",
      "source": [
        "test_tagged_words = [tup[0] for sent in test_run for tup in sent]\n",
        "test_tagged_words"
      ],
      "metadata": {
        "id": "ywhlG5nC2y4T",
        "colab": {
          "base_uri": "https://localhost:8080/"
        },
        "outputId": "fcbcb7e4-e4f1-41f9-fd41-b08adfcfed10"
      },
      "execution_count": null,
      "outputs": [
        {
          "output_type": "execute_result",
          "data": {
            "text/plain": [
              "['In',\n",
              " 'a',\n",
              " 'post-hearing',\n",
              " 'news',\n",
              " 'conference',\n",
              " ',',\n",
              " 'Mr.',\n",
              " 'Phelan',\n",
              " ',',\n",
              " 'who',\n",
              " '*T*-214',\n",
              " 'has',\n",
              " 'publicly',\n",
              " 'expressed',\n",
              " 'concern',\n",
              " 'about',\n",
              " 'market',\n",
              " 'volatility',\n",
              " ',',\n",
              " 'said',\n",
              " '0',\n",
              " 'he',\n",
              " 'told',\n",
              " 'the',\n",
              " 'House',\n",
              " 'finance',\n",
              " 'and',\n",
              " 'telecommunications',\n",
              " 'subcommittee',\n",
              " 'that',\n",
              " 'he',\n",
              " 'would',\n",
              " 'support',\n",
              " 'the',\n",
              " 'program-trading',\n",
              " 'halt',\n",
              " 'proposal',\n",
              " '``',\n",
              " '*',\n",
              " 'providing',\n",
              " '0',\n",
              " 'the',\n",
              " 'SEC',\n",
              " 'would',\n",
              " 'be',\n",
              " 'comfortable',\n",
              " 'with',\n",
              " 'the',\n",
              " 'language',\n",
              " \"''\",\n",
              " 'in',\n",
              " 'a',\n",
              " 'bill',\n",
              " '.',\n",
              " 'Later',\n",
              " 'yesterday',\n",
              " ',',\n",
              " 'a',\n",
              " 'Massachusetts',\n",
              " 'senate',\n",
              " 'committee',\n",
              " 'approved',\n",
              " 'a',\n",
              " 'bill',\n",
              " '0',\n",
              " '*T*-1',\n",
              " 'to',\n",
              " 'allow',\n",
              " 'national',\n",
              " 'interstate',\n",
              " 'banking',\n",
              " 'by',\n",
              " 'banks',\n",
              " 'in',\n",
              " 'the',\n",
              " 'state',\n",
              " '*',\n",
              " 'beginning',\n",
              " 'in',\n",
              " '1991',\n",
              " '.',\n",
              " 'But',\n",
              " 'a',\n",
              " 'takeover',\n",
              " 'battle',\n",
              " 'opens',\n",
              " 'up',\n",
              " 'the',\n",
              " 'possibility',\n",
              " 'of',\n",
              " 'a',\n",
              " 'bidding',\n",
              " 'war',\n",
              " ',',\n",
              " 'with',\n",
              " 'all',\n",
              " '0',\n",
              " 'that',\n",
              " 'implies',\n",
              " '*T*-1',\n",
              " '.',\n",
              " 'Douglas',\n",
              " 'Madison',\n",
              " ',',\n",
              " 'a',\n",
              " 'corporate',\n",
              " 'trader',\n",
              " 'with',\n",
              " 'Bank',\n",
              " 'of',\n",
              " 'America',\n",
              " 'in',\n",
              " 'Los',\n",
              " 'Angeles',\n",
              " ',',\n",
              " 'traced',\n",
              " 'the',\n",
              " 'dollar',\n",
              " \"'s\",\n",
              " 'recent',\n",
              " 'solid',\n",
              " 'performance',\n",
              " 'against',\n",
              " 'the',\n",
              " 'yen',\n",
              " 'to',\n",
              " 'purchases',\n",
              " 'of',\n",
              " 'securities',\n",
              " 'by',\n",
              " 'Japanese',\n",
              " 'insurance',\n",
              " 'companies',\n",
              " 'and',\n",
              " 'trust',\n",
              " 'banks',\n",
              " 'and',\n",
              " 'the',\n",
              " 'sense',\n",
              " 'that',\n",
              " 'another',\n",
              " 'wave',\n",
              " 'of',\n",
              " 'investment',\n",
              " 'is',\n",
              " 'waiting',\n",
              " 'in',\n",
              " 'the',\n",
              " 'wings',\n",
              " '.',\n",
              " 'The',\n",
              " 'Treasury',\n",
              " 'said',\n",
              " '0',\n",
              " 'it',\n",
              " 'plans',\n",
              " '*-1',\n",
              " 'to',\n",
              " 'sell',\n",
              " '$',\n",
              " '30',\n",
              " 'billion',\n",
              " '*U*',\n",
              " 'in',\n",
              " 'notes',\n",
              " 'and',\n",
              " 'bonds',\n",
              " 'next',\n",
              " 'week',\n",
              " ',',\n",
              " 'but',\n",
              " 'said',\n",
              " '0',\n",
              " 'the',\n",
              " 'auctions',\n",
              " 'will',\n",
              " 'be',\n",
              " 'postponed',\n",
              " '*-105',\n",
              " 'unless',\n",
              " 'Congress',\n",
              " 'acts',\n",
              " 'quickly',\n",
              " '*-2',\n",
              " 'to',\n",
              " 'lift',\n",
              " 'the',\n",
              " 'federal',\n",
              " 'debt',\n",
              " 'ceiling',\n",
              " '.',\n",
              " '``',\n",
              " 'U.S.',\n",
              " 'investors',\n",
              " 'should',\n",
              " 'have',\n",
              " 'a',\n",
              " 'greater',\n",
              " 'opportunity',\n",
              " 'at',\n",
              " 'direct',\n",
              " 'investment',\n",
              " \"''\",\n",
              " 'in',\n",
              " 'Japan',\n",
              " '.',\n",
              " 'Traders',\n",
              " 'said',\n",
              " '0',\n",
              " 'prices',\n",
              " 'also',\n",
              " 'were',\n",
              " 'supported',\n",
              " '*-1',\n",
              " 'by',\n",
              " 'widespread',\n",
              " 'rumors',\n",
              " 'that',\n",
              " 'the',\n",
              " 'Soviet',\n",
              " 'Union',\n",
              " 'is',\n",
              " 'on',\n",
              " 'the',\n",
              " 'verge',\n",
              " 'of',\n",
              " '*',\n",
              " 'receiving',\n",
              " 'most',\n",
              " 'favored',\n",
              " 'nation',\n",
              " 'status',\n",
              " 'from',\n",
              " 'the',\n",
              " 'U.S.',\n",
              " '.',\n",
              " 'The',\n",
              " 'downgrading',\n",
              " 'of',\n",
              " 'debt',\n",
              " 'issued',\n",
              " '*',\n",
              " 'by',\n",
              " 'CS',\n",
              " 'First',\n",
              " 'Boston',\n",
              " 'Inc.',\n",
              " ',',\n",
              " 'parent',\n",
              " 'of',\n",
              " 'First',\n",
              " 'Boston',\n",
              " 'Corp.',\n",
              " ',',\n",
              " 'by',\n",
              " 'Moody',\n",
              " \"'s\",\n",
              " 'Investors',\n",
              " 'Service',\n",
              " 'Inc.',\n",
              " ',',\n",
              " '*',\n",
              " 'coupled',\n",
              " '*',\n",
              " 'with',\n",
              " 'a',\n",
              " 'Moody',\n",
              " \"'s\",\n",
              " 'announcement',\n",
              " 'that',\n",
              " 'Shearson',\n",
              " 'Lehman',\n",
              " 'Hutton',\n",
              " 'Holdings',\n",
              " 'Inc.',\n",
              " 'is',\n",
              " 'under',\n",
              " 'review',\n",
              " 'for',\n",
              " 'a',\n",
              " 'possible',\n",
              " 'downgrade',\n",
              " ',',\n",
              " 'sent',\n",
              " 'shivers',\n",
              " 'through',\n",
              " 'the',\n",
              " 'brokerage',\n",
              " 'community',\n",
              " 'this',\n",
              " 'week',\n",
              " '.',\n",
              " 'If',\n",
              " 'President',\n",
              " 'Bush',\n",
              " 'loses',\n",
              " 'at',\n",
              " 'the',\n",
              " 'court',\n",
              " ',',\n",
              " 'it',\n",
              " 'might',\n",
              " 'be',\n",
              " 'disappointing',\n",
              " ',',\n",
              " 'as',\n",
              " 'Morrison',\n",
              " 'v.',\n",
              " 'Olson',\n",
              " 'was',\n",
              " '*?*',\n",
              " 'for',\n",
              " 'the',\n",
              " 'Reagan',\n",
              " 'administration',\n",
              " '.',\n",
              " 'At',\n",
              " 'Tokyo',\n",
              " ',',\n",
              " 'the',\n",
              " 'Nikkei',\n",
              " 'index',\n",
              " 'of',\n",
              " '225',\n",
              " 'selected',\n",
              " 'issues',\n",
              " ',',\n",
              " 'which',\n",
              " '*T*-1',\n",
              " 'gained',\n",
              " '132',\n",
              " 'points',\n",
              " 'Tuesday',\n",
              " ',',\n",
              " 'added',\n",
              " '14.99',\n",
              " 'points',\n",
              " 'to',\n",
              " '35564.43',\n",
              " '.']"
            ]
          },
          "metadata": {},
          "execution_count": 25
        }
      ]
    },
    {
      "cell_type": "code",
      "source": [
        "start = time.time()\n",
        "tagged_seq = Viterbi(test_tagged_words)\n",
        "end = time.time()\n",
        "difference = end-start\n",
        " \n",
        "print(\"Time taken in seconds: \", difference)\n",
        " \n",
        "# accuracy\n",
        "check = [i for i, j in zip(tagged_seq, test_run_base) if i == j] \n",
        " \n",
        "accuracy = len(check)/len(tagged_seq)\n",
        "print('Viterbi Algorithm Accuracy: ',accuracy*100)"
      ],
      "metadata": {
        "colab": {
          "base_uri": "https://localhost:8080/"
        },
        "id": "DhoPR0pw20Bg",
        "outputId": "b7c92ae1-33fb-457e-b206-b33a6a678675"
      },
      "execution_count": null,
      "outputs": [
        {
          "output_type": "stream",
          "name": "stdout",
          "text": [
            "Time taken in seconds:  69.76910638809204\n",
            "Viterbi Algorithm Accuracy:  92.3529411764706\n"
          ]
        }
      ]
    },
    {
      "cell_type": "code",
      "source": [
        "#To improve the performance,we specify a rule base tagger for unknown words \n",
        "# specify patterns for tagging\n",
        "patterns = [\n",
        "    (r'.*ing$', 'VERB'),              # gerund\n",
        "    (r'.*ed$', 'VERB'),               # past tense \n",
        "    (r'.*es$', 'VERB'),               # verb    \n",
        "    (r'.*\\'s$', 'NOUN'),              # possessive nouns\n",
        "    (r'.*s$', 'NOUN'),                # plural nouns\n",
        "    (r'\\*T?\\*?-[0-9]+$', 'X'),        # X\n",
        "    (r'^-?[0-9]+(.[0-9]+)?$', 'NUM'), # cardinal numbers\n",
        "    (r'.*', 'NOUN')                   # nouns\n",
        "]\n",
        " \n",
        "# rule based tagger\n",
        "rule_based_tagger = nltk.RegexpTagger(patterns)"
      ],
      "metadata": {
        "id": "kzRy_SQU34s7"
      },
      "execution_count": null,
      "outputs": []
    },
    {
      "cell_type": "markdown",
      "source": [
        "# ***Modified Viterbi Algorithm***"
      ],
      "metadata": {
        "id": "uTg3R4Aw38OG"
      }
    },
    {
      "cell_type": "code",
      "source": [
        "def Viterbi_rule_based(words, train_bag = train_tagged_words):\n",
        "    state = []\n",
        "    T = list(set([pair[1] for pair in train_bag]))\n",
        "     \n",
        "    for key, word in enumerate(words):\n",
        "        #initialise list of probability column for a given observation\n",
        "        p = [] \n",
        "        for tag in T:\n",
        "            if key == 0:\n",
        "                transition_p = tags_df.loc['.', tag]\n",
        "            else:\n",
        "                transition_p = tags_df.loc[state[-1], tag]\n",
        "                 \n",
        "            # compute emission and state probabilities\n",
        "            emission_p = word_given_tag(words[key], tag)[0]/word_given_tag(words[key], tag)[1]\n",
        "            state_probability = emission_p * transition_p    \n",
        "            p.append(state_probability)\n",
        "             \n",
        "        pmax = max(p)\n",
        "        state_max = rule_based_tagger.tag([word])[0][1]       \n",
        "        \n",
        "         \n",
        "        if(pmax==0):\n",
        "            state_max = rule_based_tagger.tag([word])[0][1] # assign based on rule based tagger\n",
        "        else:\n",
        "            if state_max != 'X':\n",
        "                # getting state for which probability is maximum\n",
        "                state_max = T[p.index(pmax)]                \n",
        "             \n",
        "         \n",
        "        state.append(state_max)\n",
        "    return list(zip(words, state))"
      ],
      "metadata": {
        "id": "3dSvqNQ54FaN"
      },
      "execution_count": null,
      "outputs": []
    },
    {
      "cell_type": "code",
      "source": [
        "#test accuracy on subset of test data \n",
        "start = time.time()\n",
        "tagged_seq = Viterbi_rule_based(test_tagged_words)\n",
        "end = time.time()\n",
        "difference = end-start\n",
        " \n",
        "print(\"Time taken in seconds: \", difference)\n",
        " \n",
        "# accuracy\n",
        "check = [i for i, j in zip(tagged_seq, test_run_base) if i == j] \n",
        " \n",
        "accuracy = len(check)/len(tagged_seq)\n",
        "print('Viterbi Algorithm Accuracy: ',accuracy*100)"
      ],
      "metadata": {
        "id": "fdjeZ-TE4Ist",
        "colab": {
          "base_uri": "https://localhost:8080/"
        },
        "outputId": "2112782b-35c8-4b2a-dd0f-be8907ccd4ce"
      },
      "execution_count": null,
      "outputs": [
        {
          "output_type": "stream",
          "name": "stdout",
          "text": [
            "Time taken in seconds:  68.83240032196045\n",
            "Viterbi Algorithm Accuracy:  97.05882352941177\n"
          ]
        }
      ]
    },
    {
      "cell_type": "code",
      "source": [
        "test_sent=\"Will can see Marry\"\n",
        "pred_tags_rule=Viterbi_rule_based(test_sent.split())\n",
        "pred_tags_withoutRules= Viterbi(test_sent.split())\n",
        "print(pred_tags_rule)\n",
        "print(pred_tags_withoutRules)\n",
        "#Will and Marry are tagged as NUM as they are unknown words for Viterbi Algorithm"
      ],
      "metadata": {
        "id": "zHSVHqLk4O_L",
        "colab": {
          "base_uri": "https://localhost:8080/"
        },
        "outputId": "4ba96ba4-4c23-4541-e5b6-62b77f67abab"
      },
      "execution_count": null,
      "outputs": [
        {
          "output_type": "stream",
          "name": "stdout",
          "text": [
            "[('Will', 'NOUN'), ('can', 'VERB'), ('see', 'VERB'), ('Marry', 'NOUN')]\n",
            "[('Will', 'DET'), ('can', 'VERB'), ('see', 'VERB'), ('Marry', 'DET')]\n"
          ]
        }
      ]
    }
  ]
}