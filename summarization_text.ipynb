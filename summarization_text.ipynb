{
  "nbformat": 4,
  "nbformat_minor": 0,
  "metadata": {
    "colab": {
      "provenance": []
    },
    "kernelspec": {
      "name": "python3",
      "display_name": "Python 3"
    },
    "language_info": {
      "name": "python"
    }
  },
  "cells": [
    {
      "cell_type": "code",
      "source": [
        "from nltk.corpus import stopwords\n",
        "from nltk.tokenize import word_tokenize, sent_tokenize"
      ],
      "metadata": {
        "id": "nx2r5WrU7jdV"
      },
      "execution_count": null,
      "outputs": []
    },
    {
      "cell_type": "code",
      "source": [
        "text = 'There are people who make things happen. There are people who watch things happen. And there are people who say, \"what happened?\" The MegaLiving! program will quickly make things happen in every aspect of your life. You will learn the finest strategies and techniques available to profoundly improve your mind, body and character.This book will show you, in a very exciting and practical way,how to put far more living into your life. There is no doubt that you have within you incredible powers to achieve anything you have ever dreamed about. Whether it is mental, physical, emotional or financial mastery that you are seeking, this book will show you precisely how to get there.MegaLiving!, which contains the revolutionary results of over ten years of research into the secrets of successful living offers you a highly effective collection of powerful, yet easy to use tools that you can use today to live with greater satisfaction, peace of mind and vitality. This book contains the master keys to dynamic living. You have the potential for a perfect life, this is certain. And if you commit yourself totally to this program for 30 days, you will receive the following benefits: i) a deep sense of well-being and happiness. ii) strategies to erase the worry habit and have far more confidence. iii) richer relationships that really last. iv) little-known skills for self-mastery and peak performance. v) an understanding of the powerful Eastern secrets of longevity. vi) boundless energy, enthusiasm and glowing health. vii) greater serenity, tranquility and a radiant personality. viii) tools to achieve lasting prosperity and financial independence. ix) proven techniques to take control of your destiny.Today is the first day of your perfect life, a life that is yours to shape into something truly wonderful and lasting.The past does not determine your future and a change towards personal excellence can happen in the blink of an eye if you will make a firm commitment to raising your life to its highest level. This program is for winners people who know that their lives are more than their current circumstances, no matter how successful they might be atthis moment. The fact that you have invested in this program sets you apart from the vast majority of people and demonstrates that you are determined to be a peak performer and condition your mind, body and character for lifelong excellence. Accept the challenge to tap into the richness of your personal potential and dare to be great! Now shut your eyes, take five deep breaths and picture this scene taking place many years into the future: you are in an elegant dining hall, surrounded by those closest to you (who are dressed formally and beautifully). The candles shimmer on every table and the importance of the evening wafts through the air like the aromas from the kitchen. This is your testimonial dinner, an opportunity for the people who know you best to speak about you as a person, your achievements and your contributions to those you love and to society in general. Reflect on what you would like them to say. At this dinner, in the twilight of your life, do you really want to hear that you have lived in an uninspired fashion, without passion and without concrete accomplishment? How would you feel on hearing that you did not even come close to meeting your mental, physical, financial and spiritual potential? How would you feel on hearing that your dreams, however lofty, went unfulfilled and that you never did supercharge your life because you were always too busy trying to pay the bills and so very tired at the end of your day?With MegaLiving! you are getting a second chance to powerfully change what you will hear at your testimonial dinner. This book is your most important wake-up call! If you follow the program daily, think about it seriously and apply the concepts regularly, making a decision from the core of your heart to live your life in a magical and special way, you will hear very sweet sounds at your testimonial dinner.The guests will happily testify to your exceptional personal effectiveness, your dynamic personality and compassion for others, your unique zest for life and your outstanding accomplishments. Becoming the very best you can be is lifes most noble pursuit. Self-mastery is the DNA of life mastery. If you want to lead a corporation, learn to leadyourself first. If you want to manage a team or a family, learn to manage yourself first.Success on the outside begins with success on the inside and if you truly want to profoundly improve the quality of your outer world, you must first improve your inner world. There is nothing more noble than learning to explore the unlimited potential of your mind and becoming the very best that you can be. This is the ultimate challenge of the MegaLiving! mastery program. Accept it with great energy and welcome yourself to the new reality of a Perfect Life.'"
      ],
      "metadata": {
        "id": "J1MnCnST8jbR"
      },
      "execution_count": null,
      "outputs": []
    },
    {
      "cell_type": "code",
      "source": [
        "import nltk\n",
        "nltk.download('stopwords')\n",
        "nltk.download('punkt')"
      ],
      "metadata": {
        "colab": {
          "base_uri": "https://localhost:8080/"
        },
        "id": "MybbtqE5MOxM",
        "outputId": "c75c3afd-16b6-4dfd-9bff-d68c21917cb4"
      },
      "execution_count": null,
      "outputs": [
        {
          "output_type": "stream",
          "name": "stdout",
          "text": [
            "[nltk_data] Downloading package stopwords to /root/nltk_data...\n",
            "[nltk_data]   Package stopwords is already up-to-date!\n",
            "[nltk_data] Downloading package punkt to /root/nltk_data...\n",
            "[nltk_data]   Unzipping tokenizers/punkt.zip.\n"
          ]
        },
        {
          "output_type": "execute_result",
          "data": {
            "text/plain": [
              "True"
            ]
          },
          "metadata": {},
          "execution_count": 7
        }
      ]
    },
    {
      "cell_type": "code",
      "source": [
        "stopWords = set (stopwords.words(\"english\"))\n",
        "words = word_tokenize(text)\n",
        "\n",
        "freqTable = dict()\n",
        "for word in words:\n",
        "  word = word.lower()\n",
        "  if word in stopWords:\n",
        "    continue\n",
        "  if word in freqTable:\n",
        "    freqTable[word] += 1\n",
        "  else:\n",
        "    freqTable[word] = 1\n",
        "\n",
        "\n",
        "sentences = sent_tokenize(text)\n",
        "sentenceValue = dict()\n"
      ],
      "metadata": {
        "id": "FTFOeSzw7mIy"
      },
      "execution_count": null,
      "outputs": []
    },
    {
      "cell_type": "code",
      "source": [
        "for sentence in sentences:\n",
        "  for word, freq in freqTable.items():\n",
        "    if word in sentence.lower():\n",
        "      if sentence in sentenceValue:\n",
        "        sentenceValue[sentence] += freq\n",
        "      else:\n",
        "        sentenceValue[sentence] = freq\n",
        "\n",
        "\n",
        "sumValues = 0\n",
        "for sentence in sentenceValue:\n",
        "  sumValues += sentenceValue[sentence]\n",
        "\n",
        "average = int(sumValues / len(sentenceValue))\n",
        "\n",
        "summary = ''\n",
        "for sentence in sentences:\n",
        "  if (sentence in sentenceValue) and (sentenceValue[sentence] > (1.2 * average)):\n",
        "    summary += \" \" + sentence\n",
        "\n",
        "print(summary)"
      ],
      "metadata": {
        "colab": {
          "base_uri": "https://localhost:8080/"
        },
        "id": "6LnP5utzMWbk",
        "outputId": "dbccae6a-6eac-48ac-9e36-05bad733b61d"
      },
      "execution_count": null,
      "outputs": [
        {
          "output_type": "stream",
          "name": "stdout",
          "text": [
            " You will learn the finest strategies and techniques available to profoundly improve your mind, body and character.This book will show you, in a very exciting and practical way,how to put far more living into your life. Whether it is mental, physical, emotional or financial mastery that you are seeking, this book will show you precisely how to get there.MegaLiving!, which contains the revolutionary results of over ten years of research into the secrets of successful living offers you a highly effective collection of powerful, yet easy to use tools that you can use today to live with greater satisfaction, peace of mind and vitality. You have the potential for a perfect life, this is certain. And if you commit yourself totally to this program for 30 days, you will receive the following benefits: i) a deep sense of well-being and happiness. vi) boundless energy, enthusiasm and glowing health. vii) greater serenity, tranquility and a radiant personality. ix) proven techniques to take control of your destiny.Today is the first day of your perfect life, a life that is yours to shape into something truly wonderful and lasting.The past does not determine your future and a change towards personal excellence can happen in the blink of an eye if you will make a firm commitment to raising your life to its highest level. This program is for winners people who know that their lives are more than their current circumstances, no matter how successful they might be atthis moment. The fact that you have invested in this program sets you apart from the vast majority of people and demonstrates that you are determined to be a peak performer and condition your mind, body and character for lifelong excellence. Now shut your eyes, take five deep breaths and picture this scene taking place many years into the future: you are in an elegant dining hall, surrounded by those closest to you (who are dressed formally and beautifully). This is your testimonial dinner, an opportunity for the people who know you best to speak about you as a person, your achievements and your contributions to those you love and to society in general. How would you feel on hearing that your dreams, however lofty, went unfulfilled and that you never did supercharge your life because you were always too busy trying to pay the bills and so very tired at the end of your day?With MegaLiving! If you follow the program daily, think about it seriously and apply the concepts regularly, making a decision from the core of your heart to live your life in a magical and special way, you will hear very sweet sounds at your testimonial dinner.The guests will happily testify to your exceptional personal effectiveness, your dynamic personality and compassion for others, your unique zest for life and your outstanding accomplishments. If you want to manage a team or a family, learn to manage yourself first.Success on the outside begins with success on the inside and if you truly want to profoundly improve the quality of your outer world, you must first improve your inner world.\n"
          ]
        }
      ]
    }
  ]
}