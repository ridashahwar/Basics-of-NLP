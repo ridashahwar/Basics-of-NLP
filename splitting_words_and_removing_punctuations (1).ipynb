{
  "nbformat": 4,
  "nbformat_minor": 0,
  "metadata": {
    "colab": {
      "provenance": []
    },
    "kernelspec": {
      "name": "python3",
      "display_name": "Python 3"
    },
    "language_info": {
      "name": "python"
    }
  },
  "cells": [
    {
      "cell_type": "code",
      "execution_count": null,
      "metadata": {
        "id": "tWbBftAWe-uE"
      },
      "outputs": [],
      "source": [
        "import re"
      ]
    },
    {
      "cell_type": "code",
      "source": [
        "i = 'Sandra went to the hallway.!!'\n",
        "#i = 'Welcome???@@##$ to#$% NLP %$^for$%^&Mtech'\n",
        "#i = input('Enter String:')\n",
        "\n",
        "print(\"The original string is : \" + i)\n",
        " \n",
        "l = re.sub(r'[^\\w\\s]','', i)\n",
        "print('String after removing punctuations:', l)\n",
        "\n",
        "st_split=re.split(\"\\s+\", l)\n",
        "print('After spliting: ',st_split)"
      ],
      "metadata": {
        "colab": {
          "base_uri": "https://localhost:8080/"
        },
        "id": "qcxU3urIha-x",
        "outputId": "fe95f84e-45bb-46bb-f3c9-6cc8af65eecd"
      },
      "execution_count": null,
      "outputs": [
        {
          "output_type": "stream",
          "name": "stdout",
          "text": [
            "The original string is : Sandra went to the hallway.!!\n",
            "String after removing punctuations: Sandra went to the hallway\n",
            "After spliting:  ['Sandra', 'went', 'to', 'the', 'hallway']\n"
          ]
        }
      ]
    },
    {
      "cell_type": "code",
      "source": [
        "punc = '''!()-[]{};:'\"\\,<>./?@#$%^&*_~ '''\n",
        "\n",
        "i = 'Welcome???@@##$ to#$% NLP %$^for$%^&Mtech'\n",
        "print(\"The original string is : \" + i)\n",
        "l = re.split('(\\W+?)', i)\n",
        "#print('String after removing punctuations:', l)\n",
        "\n",
        "l = [el for el in l if el not in punc]\n",
        "print('Splitting the text after removing the punctuations :' ,l)"
      ],
      "metadata": {
        "id": "bzsAHnUCZcsT",
        "colab": {
          "base_uri": "https://localhost:8080/"
        },
        "outputId": "306b0353-e9fd-4d43-8e13-76bc79578d5a"
      },
      "execution_count": null,
      "outputs": [
        {
          "output_type": "stream",
          "name": "stdout",
          "text": [
            "The original string is : Welcome???@@##$ to#$% NLP %$^for$%^&Mtech\n",
            "Splitting the text after removing the punctuations : ['Welcome', 'to', 'NLP', 'for', 'Mtech']\n"
          ]
        }
      ]
    }
  ]
}